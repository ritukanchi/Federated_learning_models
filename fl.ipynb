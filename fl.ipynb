{
 "cells": [
  {
   "cell_type": "code",
   "execution_count": 9,
   "id": "d4e62ef4-7c76-4650-9a34-827cfd3c747e",
   "metadata": {},
   "outputs": [],
   "source": [
    "X_train, X_test, y_train, y_test = train_test_split(X, y, test_size=0.2, random_state=0)\n"
   ]
  },
  {
   "cell_type": "code",
   "execution_count": 19,
   "id": "0e7125b8-c3e6-4585-82b5-deb3e94bf3f1",
   "metadata": {},
   "outputs": [],
   "source": [
    "if 'gender' in data.columns:\n",
    "    label_encoder = LabelEncoder()\n",
    "    data['gender'] = label_encoder.fit_transform(data['gender'])\n"
   ]
  },
  {
   "cell_type": "code",
   "execution_count": 21,
   "id": "cb181005-0c40-4922-a3a2-b5bd96614888",
   "metadata": {},
   "outputs": [],
   "source": [
    "X = data.iloc[:, :-1].values  # All columns except the last\n",
    "y = data.iloc[:, -1].values   # Last column\n"
   ]
  },
  {
   "cell_type": "code",
   "execution_count": 23,
   "id": "7a906b76-9f7a-40d8-ac4f-02ad73d54933",
   "metadata": {},
   "outputs": [],
   "source": [
    "X_train, X_test, y_train, y_test = train_test_split(X, y, test_size=0.2, random_state=0)\n"
   ]
  },
  {
   "cell_type": "code",
   "execution_count": 27,
   "id": "03ba220b-b998-4387-957c-f6c4c2875097",
   "metadata": {},
   "outputs": [],
   "source": [
    "scaler = StandardScaler()\n"
   ]
  },
  {
   "cell_type": "code",
   "execution_count": 31,
   "id": "3264de88-4d17-446c-9861-bcbad4a57879",
   "metadata": {},
   "outputs": [
    {
     "name": "stdout",
     "output_type": "stream",
     "text": [
      "Initial dataset summary:\n",
      "           Unnamed: 0        gender           age    height(cm)     height(m)  \\\n",
      "count   10725.000000  10725.000000  10698.000000  10686.000000  10725.000000   \n",
      "unique           NaN           NaN           NaN           NaN           NaN   \n",
      "top              NaN           NaN           NaN           NaN           NaN   \n",
      "freq             NaN           NaN           NaN           NaN           NaN   \n",
      "mean    11663.604289      0.480559     33.979062    165.625066      1.650228   \n",
      "std      6813.962123      0.499645      8.024044      6.752179      0.120343   \n",
      "min         1.000000      0.000000      0.000000    137.160000      0.000000   \n",
      "25%      5959.000000      0.000000     29.000000    160.020000      1.600200   \n",
      "50%     10695.000000      0.000000     32.000000    165.100000      1.651000   \n",
      "75%     17453.000000      1.000000     37.000000    170.180000      1.701800   \n",
      "max     23998.000000      1.000000    116.000000    190.500000      1.905000   \n",
      "\n",
      "          weight(kg)  activity_level  calories_to_maintain_weight  \\\n",
      "count   10725.000000    10725.000000                 10725.000000   \n",
      "unique           NaN             NaN                          NaN   \n",
      "top              NaN             NaN                          NaN   \n",
      "freq             NaN             NaN                          NaN   \n",
      "mean       61.749371        1.487469                  2118.588562   \n",
      "std         9.964214        0.239629                   388.440639   \n",
      "min        22.000000        1.200000                   953.540900   \n",
      "25%        55.000000        1.300000                  1815.864700   \n",
      "50%        61.000000        1.500000                  2104.616800   \n",
      "75%        68.000000        1.700000                  2405.307000   \n",
      "max       131.000000        1.900000                  2949.075500   \n",
      "\n",
      "                    BMI           BMR  \n",
      "count             10725  10725.000000  \n",
      "unique              622           NaN  \n",
      "top     21.948286084072           NaN  \n",
      "freq                199           NaN  \n",
      "mean                NaN   1484.418566  \n",
      "std                 NaN    140.104236  \n",
      "min                 NaN    325.000000  \n",
      "25%                 NaN   1402.750000  \n",
      "50%                 NaN   1476.875000  \n",
      "75%                 NaN   1561.875000  \n",
      "max                 NaN   2168.625000  \n",
      "Missing values in the dataset:\n",
      " Unnamed: 0                      0\n",
      "gender                          0\n",
      "age                            27\n",
      "height(cm)                     39\n",
      "height(m)                       0\n",
      "weight(kg)                      0\n",
      "activity_level                  0\n",
      "calories_to_maintain_weight     0\n",
      "BMI                             0\n",
      "BMR                             0\n",
      "dtype: int64\n"
     ]
    }
   ],
   "source": [
    "print(\"Initial dataset summary:\\n\", data.describe(include='all'))\n",
    "print(\"Missing values in the dataset:\\n\", data.isnull().sum())\n"
   ]
  },
  {
   "cell_type": "code",
   "execution_count": 33,
   "id": "f1a948c9-3c99-4bf2-a198-8708bf06af8d",
   "metadata": {},
   "outputs": [],
   "source": [
    "data.replace({'#DIV/0!': np.nan}, inplace=True)"
   ]
  },
  {
   "cell_type": "code",
   "execution_count": 35,
   "id": "43f4b269-1d1b-40f7-bdbe-07232d9cc41f",
   "metadata": {},
   "outputs": [],
   "source": [
    "data.dropna(inplace=True)\n"
   ]
  },
  {
   "cell_type": "code",
   "execution_count": 37,
   "id": "5228bdbb-259e-4af5-b059-1aee564be5f9",
   "metadata": {},
   "outputs": [],
   "source": [
    "if 'gender' in data.columns:\n",
    "    label_encoder = LabelEncoder()\n",
    "    data['gender'] = label_encoder.fit_transform(data['gender'])"
   ]
  },
  {
   "cell_type": "code",
   "execution_count": 39,
   "id": "a09f99ca-50aa-4060-b700-b86a8294c33b",
   "metadata": {},
   "outputs": [],
   "source": [
    "X = data.iloc[:, :-1].values  # All columns except the last\n",
    "y = data.iloc[:, -1].values   # Last"
   ]
  },
  {
   "cell_type": "code",
   "execution_count": 41,
   "id": "68474f9f-9346-4580-873f-b881c5e6078c",
   "metadata": {},
   "outputs": [],
   "source": [
    "X_train, X_test, y_train, y_test = train_test_split(X, y, test_size=0.2, random_state=0)"
   ]
  },
  {
   "cell_type": "code",
   "execution_count": 43,
   "id": "5b18d98d-bd3f-4ce3-bd69-a4fef577c7bf",
   "metadata": {},
   "outputs": [],
   "source": [
    "scaler = StandardScaler()\n",
    "X_train = scaler.fit_transform(X_train)\n",
    "X_test = scaler.transform(X_test)"
   ]
  },
  {
   "cell_type": "code",
   "execution_count": 45,
   "id": "212364ae-732f-429d-b305-e3500e6823f1",
   "metadata": {},
   "outputs": [],
   "source": [
    "def create_model():\n",
    "    model = Sequential([\n",
    "        Input(shape=(X_train.shape[1],)),\n",
    "        Dense(256, activation='relu'),\n",
    "        Dense(128, activation='relu'),\n",
    "        Dense(1, activation='sigmoid')\n",
    "    ])\n",
    "    model.compile(optimizer='adam', loss='binary_crossentropy', metrics=['accuracy'])\n",
    "    return model"
   ]
  },
  {
   "cell_type": "code",
   "execution_count": 47,
   "id": "f8dd0a10-7038-4710-9e80-0457e7f71d6b",
   "metadata": {},
   "outputs": [],
   "source": [
    "def federated_averaging(models, weights):\n",
    "    avg_weights = [np.zeros_like(w) for w in models[0].get_weights()]\n",
    "    total_weight = np.sum(weights)\n",
    "    \n",
    "    for model, weight in zip(models, weights):\n",
    "        model_weights = model.get_weights()\n",
    "        for i in range(len(avg_weights)):\n",
    "            avg_weights[i] += model_weights[i] * weight\n",
    "            \n",
    "    for i in range(len(avg_weights)):\n",
    "        avg_weights[i] /= total_weight\n",
    "\n",
    "    return avg_weights"
   ]
  },
  {
   "cell_type": "code",
   "execution_count": 49,
   "id": "f8c5a3f5-8a32-43f4-ac6e-65ff593535b4",
   "metadata": {},
   "outputs": [],
   "source": [
    "num_clients = 5\n",
    "clients_data = np.array_split(X_train, num_clients)\n",
    "clients_labels = np.array_split(y_train, num_clients)\n",
    "client_weights = np.ones(num_clients)  # Assuming equal we"
   ]
  },
  {
   "cell_type": "code",
   "execution_count": 51,
   "id": "d3f7edae-8fc7-4b7c-bf7f-d4be81dfc97a",
   "metadata": {},
   "outputs": [],
   "source": [
    "client_models = []\n",
    "for client_data, client_labels in zip(clients_data, clients_labels):\n",
    "    model = create_model()\n",
    "    model.fit(client_data, client_labels, epochs=5, batch_size=32, verbose=0)\n",
    "    client_models.append(model)\n"
   ]
  },
  {
   "cell_type": "code",
   "execution_count": 53,
   "id": "677ed2c9-be26-4957-9f70-224ef8abee01",
   "metadata": {},
   "outputs": [],
   "source": [
    "avg_weights = federated_averaging(client_models, client_weights)"
   ]
  },
  {
   "cell_type": "code",
   "execution_count": 55,
   "id": "e4f2b8aa-0a40-4b0f-bf10-4d6bb0aa51ce",
   "metadata": {},
   "outputs": [],
   "source": [
    "global_model = create_model()\n",
    "global_model.set_weights(avg_weights)"
   ]
  },
  {
   "cell_type": "code",
   "execution_count": 57,
   "id": "78e8d90d-14e8-47db-b239-48adaf9f9875",
   "metadata": {},
   "outputs": [
    {
     "name": "stdout",
     "output_type": "stream",
     "text": [
      "Test loss: -2126547.2500, Test accuracy: 0.0000\n"
     ]
    }
   ],
   "source": [
    "loss, accuracy = global_model.evaluate(X_test, y_test, verbose=0)\n",
    "print(f'Test loss: {loss:.4f}, Test accuracy: {accuracy:.4f}')"
   ]
  },
  {
   "cell_type": "code",
   "execution_count": 59,
   "id": "898be68a-0947-41d6-a1dd-3391e784032f",
   "metadata": {},
   "outputs": [
    {
     "data": {
      "text/html": [
       "<pre style=\"white-space:pre;overflow-x:auto;line-height:normal;font-family:Menlo,'DejaVu Sans Mono',consolas,'Courier New',monospace\"><span style=\"font-weight: bold\">Model: \"sequential_5\"</span>\n",
       "</pre>\n"
      ],
      "text/plain": [
       "\u001b[1mModel: \"sequential_5\"\u001b[0m\n"
      ]
     },
     "metadata": {},
     "output_type": "display_data"
    },
    {
     "data": {
      "text/html": [
       "<pre style=\"white-space:pre;overflow-x:auto;line-height:normal;font-family:Menlo,'DejaVu Sans Mono',consolas,'Courier New',monospace\">┏━━━━━━━━━━━━━━━━━━━━━━━━━━━━━━━━━┳━━━━━━━━━━━━━━━━━━━━━━━━┳━━━━━━━━━━━━━━━┓\n",
       "┃<span style=\"font-weight: bold\"> Layer (type)                    </span>┃<span style=\"font-weight: bold\"> Output Shape           </span>┃<span style=\"font-weight: bold\">       Param # </span>┃\n",
       "┡━━━━━━━━━━━━━━━━━━━━━━━━━━━━━━━━━╇━━━━━━━━━━━━━━━━━━━━━━━━╇━━━━━━━━━━━━━━━┩\n",
       "│ dense_15 (<span style=\"color: #0087ff; text-decoration-color: #0087ff\">Dense</span>)                │ (<span style=\"color: #00d7ff; text-decoration-color: #00d7ff\">None</span>, <span style=\"color: #00af00; text-decoration-color: #00af00\">256</span>)            │         <span style=\"color: #00af00; text-decoration-color: #00af00\">2,560</span> │\n",
       "├─────────────────────────────────┼────────────────────────┼───────────────┤\n",
       "│ dense_16 (<span style=\"color: #0087ff; text-decoration-color: #0087ff\">Dense</span>)                │ (<span style=\"color: #00d7ff; text-decoration-color: #00d7ff\">None</span>, <span style=\"color: #00af00; text-decoration-color: #00af00\">128</span>)            │        <span style=\"color: #00af00; text-decoration-color: #00af00\">32,896</span> │\n",
       "├─────────────────────────────────┼────────────────────────┼───────────────┤\n",
       "│ dense_17 (<span style=\"color: #0087ff; text-decoration-color: #0087ff\">Dense</span>)                │ (<span style=\"color: #00d7ff; text-decoration-color: #00d7ff\">None</span>, <span style=\"color: #00af00; text-decoration-color: #00af00\">1</span>)              │           <span style=\"color: #00af00; text-decoration-color: #00af00\">129</span> │\n",
       "└─────────────────────────────────┴────────────────────────┴───────────────┘\n",
       "</pre>\n"
      ],
      "text/plain": [
       "┏━━━━━━━━━━━━━━━━━━━━━━━━━━━━━━━━━┳━━━━━━━━━━━━━━━━━━━━━━━━┳━━━━━━━━━━━━━━━┓\n",
       "┃\u001b[1m \u001b[0m\u001b[1mLayer (type)                   \u001b[0m\u001b[1m \u001b[0m┃\u001b[1m \u001b[0m\u001b[1mOutput Shape          \u001b[0m\u001b[1m \u001b[0m┃\u001b[1m \u001b[0m\u001b[1m      Param #\u001b[0m\u001b[1m \u001b[0m┃\n",
       "┡━━━━━━━━━━━━━━━━━━━━━━━━━━━━━━━━━╇━━━━━━━━━━━━━━━━━━━━━━━━╇━━━━━━━━━━━━━━━┩\n",
       "│ dense_15 (\u001b[38;5;33mDense\u001b[0m)                │ (\u001b[38;5;45mNone\u001b[0m, \u001b[38;5;34m256\u001b[0m)            │         \u001b[38;5;34m2,560\u001b[0m │\n",
       "├─────────────────────────────────┼────────────────────────┼───────────────┤\n",
       "│ dense_16 (\u001b[38;5;33mDense\u001b[0m)                │ (\u001b[38;5;45mNone\u001b[0m, \u001b[38;5;34m128\u001b[0m)            │        \u001b[38;5;34m32,896\u001b[0m │\n",
       "├─────────────────────────────────┼────────────────────────┼───────────────┤\n",
       "│ dense_17 (\u001b[38;5;33mDense\u001b[0m)                │ (\u001b[38;5;45mNone\u001b[0m, \u001b[38;5;34m1\u001b[0m)              │           \u001b[38;5;34m129\u001b[0m │\n",
       "└─────────────────────────────────┴────────────────────────┴───────────────┘\n"
      ]
     },
     "metadata": {},
     "output_type": "display_data"
    },
    {
     "data": {
      "text/html": [
       "<pre style=\"white-space:pre;overflow-x:auto;line-height:normal;font-family:Menlo,'DejaVu Sans Mono',consolas,'Courier New',monospace\"><span style=\"font-weight: bold\"> Total params: </span><span style=\"color: #00af00; text-decoration-color: #00af00\">35,585</span> (139.00 KB)\n",
       "</pre>\n"
      ],
      "text/plain": [
       "\u001b[1m Total params: \u001b[0m\u001b[38;5;34m35,585\u001b[0m (139.00 KB)\n"
      ]
     },
     "metadata": {},
     "output_type": "display_data"
    },
    {
     "data": {
      "text/html": [
       "<pre style=\"white-space:pre;overflow-x:auto;line-height:normal;font-family:Menlo,'DejaVu Sans Mono',consolas,'Courier New',monospace\"><span style=\"font-weight: bold\"> Trainable params: </span><span style=\"color: #00af00; text-decoration-color: #00af00\">35,585</span> (139.00 KB)\n",
       "</pre>\n"
      ],
      "text/plain": [
       "\u001b[1m Trainable params: \u001b[0m\u001b[38;5;34m35,585\u001b[0m (139.00 KB)\n"
      ]
     },
     "metadata": {},
     "output_type": "display_data"
    },
    {
     "data": {
      "text/html": [
       "<pre style=\"white-space:pre;overflow-x:auto;line-height:normal;font-family:Menlo,'DejaVu Sans Mono',consolas,'Courier New',monospace\"><span style=\"font-weight: bold\"> Non-trainable params: </span><span style=\"color: #00af00; text-decoration-color: #00af00\">0</span> (0.00 B)\n",
       "</pre>\n"
      ],
      "text/plain": [
       "\u001b[1m Non-trainable params: \u001b[0m\u001b[38;5;34m0\u001b[0m (0.00 B)\n"
      ]
     },
     "metadata": {},
     "output_type": "display_data"
    }
   ],
   "source": [
    "global_model.summary()"
   ]
  },
  {
   "cell_type": "code",
   "execution_count": null,
   "id": "c3050544-a59c-42b2-9136-2d48e5e6ea76",
   "metadata": {},
   "outputs": [],
   "source": []
  }
 ],
 "metadata": {
  "kernelspec": {
   "display_name": "Python 3 (ipykernel)",
   "language": "python",
   "name": "python3"
  },
  "language_info": {
   "codemirror_mode": {
    "name": "ipython",
    "version": 3
   },
   "file_extension": ".py",
   "mimetype": "text/x-python",
   "name": "python",
   "nbconvert_exporter": "python",
   "pygments_lexer": "ipython3",
   "version": "3.11.7"
  }
 },
 "nbformat": 4,
 "nbformat_minor": 5
}
