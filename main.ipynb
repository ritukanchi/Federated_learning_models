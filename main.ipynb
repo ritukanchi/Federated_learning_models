{
 "cells": [
  {
   "cell_type": "code",
   "execution_count": 30,
   "metadata": {},
   "outputs": [
    {
     "name": "stdout",
     "output_type": "stream",
     "text": [
      "<class 'pandas.core.frame.DataFrame'>\n",
      "RangeIndex: 10659 entries, 0 to 10658\n",
      "Data columns (total 10 columns):\n",
      " #   Column                       Non-Null Count  Dtype  \n",
      "---  ------                       --------------  -----  \n",
      " 0   Unnamed: 0                   10659 non-null  int64  \n",
      " 1   gender                       10659 non-null  int64  \n",
      " 2   age                          10659 non-null  int64  \n",
      " 3   height(cm)                   10659 non-null  float64\n",
      " 4   height(m)                    10659 non-null  float64\n",
      " 5   weight(kg)                   10659 non-null  int64  \n",
      " 6   activity_level               10659 non-null  float64\n",
      " 7   calories_to_maintain_weight  10659 non-null  float64\n",
      " 8   BMI                          10659 non-null  float64\n",
      " 9   BMR                          10659 non-null  float64\n",
      "dtypes: float64(6), int64(4)\n",
      "memory usage: 832.9 KB\n"
     ]
    },
    {
     "data": {
      "text/plain": [
       "(   Unnamed: 0  gender  age  height(cm)  height(m)  weight(kg)  activity_level  \\\n",
       " 0           1       1   28      172.72     1.7272          62             1.2   \n",
       " 1           2       1   36      167.64     1.6764          59             1.7   \n",
       " 2           4       1   34      165.10     1.6510          61             1.9   \n",
       " 3           6       1   27      175.26     1.7526          65             1.9   \n",
       " 4           8       0   45      172.72     1.7272          62             1.9   \n",
       " \n",
       "    calories_to_maintain_weight        BMI       BMR  \n",
       " 0                    1150.3008  20.782914  1564.500  \n",
       " 1                    1585.0511  20.994073  1462.750  \n",
       " 2                    1857.3982  22.378743  1476.875  \n",
       " 3                    1794.9091  21.161563  1615.375  \n",
       " 4                    1518.5351  20.782914  1479.500  ,\n",
       " None,\n",
       "          Unnamed: 0        gender           age    height(cm)     height(m)  \\\n",
       " count  10659.000000  10659.000000  10659.000000  10659.000000  10659.000000   \n",
       " mean   11667.442349      0.519467     33.993808    165.625205      1.656252   \n",
       " std     6815.550401      0.499644      8.030083      6.751584      0.067516   \n",
       " min        1.000000      0.000000      0.000000    137.160000      1.371600   \n",
       " 25%     5958.500000      0.000000     29.000000    160.020000      1.600200   \n",
       " 50%    10711.000000      1.000000     32.000000    165.100000      1.651000   \n",
       " 75%    17457.000000      1.000000     37.000000    170.180000      1.701800   \n",
       " max    23998.000000      1.000000    116.000000    190.500000      1.905000   \n",
       " \n",
       "          weight(kg)  activity_level  calories_to_maintain_weight  \\\n",
       " count  10659.000000    10659.000000                 10659.000000   \n",
       " mean      61.741721        1.487203                  2118.263117   \n",
       " std        9.967163        0.239498                   388.534676   \n",
       " min       22.000000        1.200000                   953.540900   \n",
       " 25%       55.000000        1.300000                  1815.589750   \n",
       " 50%       61.000000        1.500000                  2104.582800   \n",
       " 75%       68.000000        1.700000                  2405.224050   \n",
       " max      131.000000        1.900000                  2949.075500   \n",
       " \n",
       "                 BMI           BMR  \n",
       " count  10659.000000  10659.000000  \n",
       " mean      22.508537   1487.605697  \n",
       " std        3.423081    126.246008  \n",
       " min        9.472241    929.250000  \n",
       " 25%       20.307423   1403.375000  \n",
       " 50%       21.788538   1476.875000  \n",
       " 75%       23.846202   1561.250000  \n",
       " max       51.159084   2168.625000  )"
      ]
     },
     "execution_count": 30,
     "metadata": {},
     "output_type": "execute_result"
    }
   ],
   "source": [
    "import pandas as pd\n",
    "\n",
    "# Load the dataset\n",
    "file_path = 'final_changes.csv'\n",
    "data = pd.read_csv(file_path)\n",
    "\n",
    "# Display the first few rows of the dataset to understand its structure\n",
    "data.head(), data.info(), data.describe()\n"
   ]
  },
  {
   "cell_type": "code",
   "execution_count": 31,
   "metadata": {},
   "outputs": [
    {
     "data": {
      "text/plain": [
       "(5330, 5329)"
      ]
     },
     "execution_count": 31,
     "metadata": {},
     "output_type": "execute_result"
    }
   ],
   "source": [
    "# Remove the unnecessary 'Unnamed: 0' column\n",
    "data_cleaned = data.drop(columns=['Unnamed: 0'])\n",
    "\n",
    "# Split the dataset into 2 subsets for federated learning\n",
    "subset1 = data_cleaned.sample(frac=0.5, random_state=42)  # First subset\n",
    "subset2 = data_cleaned.drop(subset1.index)               # Second subset\n",
    "\n",
    "# Show the size of each subset to ensure correct splitting\n",
    "subset1_size, subset2_size = subset1.shape[0], subset2.shape[0]\n",
    "subset1_size, subset2_size\n"
   ]
  },
  {
   "cell_type": "code",
   "execution_count": 32,
   "metadata": {},
   "outputs": [
    {
     "name": "stderr",
     "output_type": "stream",
     "text": [
      "C:\\Users\\rituk\\AppData\\Local\\Temp\\ipykernel_9428\\3768796121.py:23: SettingWithCopyWarning: \n",
      "A value is trying to be set on a copy of a slice from a DataFrame.\n",
      "Try using .loc[row_indexer,col_indexer] = value instead\n",
      "\n",
      "See the caveats in the documentation: https://pandas.pydata.org/pandas-docs/stable/user_guide/indexing.html#returning-a-view-versus-a-copy\n",
      "  X_bmr['calculated_bmr'] = X_bmr.apply(calculate_bmr, axis=1)\n"
     ]
    },
    {
     "data": {
      "text/plain": [
       "(      weight(kg)  height(m)\n",
       " 1953          68     1.7780\n",
       " 1090          83     1.7018\n",
       " 4139          50     1.5748\n",
       " 1971          63     1.6764\n",
       " 5422          70     1.7018,\n",
       "    weight(kg)  height(cm)  age  gender  calculated_bmr\n",
       " 1          59      167.64   36       1        1296.750\n",
       " 2          61      165.10   34       1        1310.875\n",
       " 4          62      172.72   45       0        1479.500\n",
       " 5          50      160.02   27       1        1204.125\n",
       " 6          53      160.02   65       0        1210.125)"
      ]
     },
     "execution_count": 32,
     "metadata": {},
     "output_type": "execute_result"
    }
   ],
   "source": [
    "# Define features and target for BMI calculation (Dataset 1)\n",
    "features_bmi = ['weight(kg)', 'height(m)']\n",
    "target_bmi = 'BMI'\n",
    "\n",
    "# Define features and target for BMR calculation (Dataset 2)\n",
    "features_bmr = ['weight(kg)', 'height(cm)', 'age', 'gender']\n",
    "target_bmr = 'BMR'\n",
    "\n",
    "# Prepare the data for BMI prediction\n",
    "X_bmi, y_bmi = subset1[features_bmi], subset1[target_bmi]\n",
    "\n",
    "# Prepare the data for BMR prediction\n",
    "X_bmr, y_bmr = subset2[features_bmr], subset2[target_bmr]\n",
    "\n",
    "# Calculate BMR using the Mifflin-St Jeor equation\n",
    "def calculate_bmr(row):\n",
    "    if row['gender'] == 0:\n",
    "        return 10 * row['weight(kg)'] + 6.25 * row['height(cm)'] - 5 * row['age'] + 5\n",
    "    else:\n",
    "        return 10 * row['weight(kg)'] + 6.25 * row['height(cm)'] - 5 * row['age'] - 161\n",
    "\n",
    "# Apply the BMR calculation to the dataset\n",
    "X_bmr['calculated_bmr'] = X_bmr.apply(calculate_bmr, axis=1)\n",
    "\n",
    "# Display the first few rows of the datasets to confirm\n",
    "X_bmi.head(), X_bmr.head()\n"
   ]
  },
  {
   "cell_type": "code",
   "execution_count": 33,
   "metadata": {},
   "outputs": [
    {
     "name": "stdout",
     "output_type": "stream",
     "text": [
      "       Unnamed: 0  gender  age  height(cm)  height(m)  weight(kg)  \\\n",
      "0               1       1   28      172.72     1.7272          62   \n",
      "1               2       1   36      167.64     1.6764          59   \n",
      "2               4       1   34      165.10     1.6510          61   \n",
      "3               6       1   27      175.26     1.7526          65   \n",
      "4               8       0   45      172.72     1.7272          62   \n",
      "...           ...     ...  ...         ...        ...         ...   \n",
      "10654       23985       1   30      152.40     1.5240          52   \n",
      "10655       23988       1   53      165.10     1.6510          47   \n",
      "10656       23994       1   50      157.48     1.5748          49   \n",
      "10657       23997       1   33      157.48     1.5748          49   \n",
      "10658       23998       0   44      177.80     1.7780          61   \n",
      "\n",
      "       activity_level        BMI       BMR  \n",
      "0                 1.2  20.782914  1564.500  \n",
      "1                 1.7  20.994073  1462.750  \n",
      "2                 1.9  22.378743  1476.875  \n",
      "3                 1.9  21.161563  1615.375  \n",
      "4                 1.9  20.782914  1479.500  \n",
      "...               ...        ...       ...  \n",
      "10654             1.3  22.388934  1327.500  \n",
      "10655             1.7  17.242638  1241.875  \n",
      "10656             1.7  19.758104  1229.250  \n",
      "10657             1.3  19.758104  1314.250  \n",
      "10658             1.2  19.295957  1506.250  \n",
      "\n",
      "[10659 rows x 9 columns]\n"
     ]
    }
   ],
   "source": [
    "from sklearn.linear_model import LinearRegression\n",
    "import pandas as pd\n",
    "# Create a linear regression model for BMI prediction\n",
    "lr_bmi = LinearRegression()\n",
    "lr_bmi.fit(X_bmi, y_bmi)\n",
    "\n",
    "# Create a linear regression model for BMR prediction\n",
    "lr_bmr = LinearRegression()\n",
    "print(pd.DataFrame(data).drop(columns=['calories_to_maintain_weight']))"
   ]
  },
  {
   "cell_type": "code",
   "execution_count": 34,
   "metadata": {},
   "outputs": [],
   "source": [
    "from sklearn.model_selection import train_test_split\n",
    "\n",
    "\n",
    "X_train1, X_test1, y_train1, y_test1 = train_test_split(X_bmi, y_bmi, test_size=0.2, random_state=0)\n",
    "X_train2, X_test2, y_train2, y_test2 = train_test_split(X_bmr, y_bmr, test_size=0.2, random_state=0)\n"
   ]
  },
  {
   "cell_type": "code",
   "execution_count": 35,
   "metadata": {},
   "outputs": [],
   "source": [
    "from sklearn.discriminant_analysis import StandardScaler\n",
    "\n",
    "\n",
    "scaler = StandardScaler()\n"
   ]
  },
  {
   "cell_type": "code",
   "execution_count": 36,
   "metadata": {},
   "outputs": [
    {
     "name": "stdout",
     "output_type": "stream",
     "text": [
      "Initial dataset summary:\n",
      "          Unnamed: 0        gender           age    height(cm)     height(m)  \\\n",
      "count  10659.000000  10659.000000  10659.000000  10659.000000  10659.000000   \n",
      "mean   11667.442349      0.519467     33.993808    165.625205      1.656252   \n",
      "std     6815.550401      0.499644      8.030083      6.751584      0.067516   \n",
      "min        1.000000      0.000000      0.000000    137.160000      1.371600   \n",
      "25%     5958.500000      0.000000     29.000000    160.020000      1.600200   \n",
      "50%    10711.000000      1.000000     32.000000    165.100000      1.651000   \n",
      "75%    17457.000000      1.000000     37.000000    170.180000      1.701800   \n",
      "max    23998.000000      1.000000    116.000000    190.500000      1.905000   \n",
      "\n",
      "         weight(kg)  activity_level  calories_to_maintain_weight  \\\n",
      "count  10659.000000    10659.000000                 10659.000000   \n",
      "mean      61.741721        1.487203                  2118.263117   \n",
      "std        9.967163        0.239498                   388.534676   \n",
      "min       22.000000        1.200000                   953.540900   \n",
      "25%       55.000000        1.300000                  1815.589750   \n",
      "50%       61.000000        1.500000                  2104.582800   \n",
      "75%       68.000000        1.700000                  2405.224050   \n",
      "max      131.000000        1.900000                  2949.075500   \n",
      "\n",
      "                BMI           BMR  \n",
      "count  10659.000000  10659.000000  \n",
      "mean      22.508537   1487.605697  \n",
      "std        3.423081    126.246008  \n",
      "min        9.472241    929.250000  \n",
      "25%       20.307423   1403.375000  \n",
      "50%       21.788538   1476.875000  \n",
      "75%       23.846202   1561.250000  \n",
      "max       51.159084   2168.625000  \n",
      "Missing values in the dataset:\n",
      " Unnamed: 0                     0\n",
      "gender                         0\n",
      "age                            0\n",
      "height(cm)                     0\n",
      "height(m)                      0\n",
      "weight(kg)                     0\n",
      "activity_level                 0\n",
      "calories_to_maintain_weight    0\n",
      "BMI                            0\n",
      "BMR                            0\n",
      "dtype: int64\n"
     ]
    }
   ],
   "source": [
    "print(\"Initial dataset summary:\\n\", data.describe(include='all'))\n",
    "print(\"Missing values in the dataset:\\n\", data.isnull().sum())\n"
   ]
  },
  {
   "cell_type": "code",
   "execution_count": 37,
   "metadata": {},
   "outputs": [],
   "source": [
    "scaler = StandardScaler()\n",
    "X_train1 = scaler.fit_transform(X_train1)\n",
    "X_test1 = scaler.transform(X_test1)\n",
    "\n",
    "X_train2 = scaler.fit_transform(X_train2)\n",
    "X_test2 = scaler.transform(X_test2)\n"
   ]
  },
  {
   "cell_type": "code",
   "execution_count": 38,
   "metadata": {},
   "outputs": [],
   "source": [
    "from tensorflow.keras.models import Sequential # type: ignore\n",
    "from tensorflow.keras.layers import Input, Dense\n",
    "\n",
    "def create_linear_regression_model1():\n",
    "    model = Sequential([\n",
    "        Input(shape=(X_train1.shape[1],)),\n",
    "        Dense(1, activation='linear')\n",
    "    ])\n",
    "    model.compile(optimizer='adam', loss='mean_squared_error', metrics=['mean_absolute_error'])\n",
    "    return model\n",
    "\n",
    "\n",
    "def create_linear_regression_model2():\n",
    "    model = Sequential([\n",
    "        Input(shape=(X_train2.shape[1],)),\n",
    "        Dense(1, activation='linear')\n",
    "    ])\n",
    "    model.compile(optimizer='adam', loss='mean_squared_error', metrics=['mean_absolute_error'])\n",
    "    return model\n",
    "\n"
   ]
  },
  {
   "cell_type": "code",
   "execution_count": 39,
   "metadata": {},
   "outputs": [],
   "source": [
    "import numpy as np\n",
    "\n",
    "\n",
    "def federated_averaging(models, weights):\n",
    "    avg_weights = [np.zeros_like(w) for w in models[0].get_weights()]\n",
    "    total_weight = np.sum(weights)\n",
    "    \n",
    "    for model, weight in zip(models, weights):\n",
    "        model_weights = model.get_weights()\n",
    "        for i in range(len(avg_weights)):\n",
    "            avg_weights[i] += model_weights[i] * weight\n",
    "            \n",
    "    for i in range(len(avg_weights)):\n",
    "        avg_weights[i] /= total_weight\n",
    "\n",
    "    return avg_weights"
   ]
  },
  {
   "cell_type": "code",
   "execution_count": 40,
   "metadata": {},
   "outputs": [
    {
     "name": "stderr",
     "output_type": "stream",
     "text": [
      "c:\\Users\\rituk\\dev\\venvs\\FL\\Lib\\site-packages\\numpy\\core\\fromnumeric.py:59: FutureWarning: 'Series.swapaxes' is deprecated and will be removed in a future version. Please use 'Series.transpose' instead.\n",
      "  return bound(*args, **kwds)\n"
     ]
    }
   ],
   "source": [
    "num_clients1 = 5\n",
    "clients_data1 = np.array_split(X_train1, num_clients1)\n",
    "clients_labels1 = np.array_split(y_train1, num_clients1)\n",
    "client_weights1 = np.ones(num_clients1)  # Assuming equal we\n",
    "\n",
    "num_clients2 = 5\n",
    "clients_data2 = np.array_split(X_train2, num_clients2)\n",
    "clients_labels2 = np.array_split(y_train2, num_clients2)\n",
    "client_weights2 = np.ones(num_clients2)  # Assuming equal we"
   ]
  },
  {
   "cell_type": "code",
   "execution_count": 41,
   "metadata": {},
   "outputs": [],
   "source": [
    "client_models1 = []\n",
    "for client_data1, client_labels1 in zip(clients_data1, clients_labels1):\n",
    "    model1 = create_linear_regression_model1()\n",
    "    model1.fit(client_data1, client_labels1, epochs=5, batch_size=32, verbose=0)\n",
    "    client_models1.append(model1)\n",
    "\n",
    "client_models2 = []\n",
    "for client_data2, client_labels2 in zip(clients_data2, clients_labels2):\n",
    "    model2 = create_linear_regression_model2()\n",
    "    model2.fit(client_data2, client_labels2, epochs=5, batch_size=32, verbose=0)\n",
    "    client_models2.append(model2)\n",
    "\n",
    "\n"
   ]
  },
  {
   "cell_type": "code",
   "execution_count": 42,
   "metadata": {},
   "outputs": [],
   "source": [
    "avg_weights1 = federated_averaging(client_models1, client_weights1)\n",
    "\n",
    "avg_weights2 = federated_averaging(client_models2, client_weights2)"
   ]
  },
  {
   "cell_type": "code",
   "execution_count": 43,
   "metadata": {},
   "outputs": [],
   "source": [
    "global_model1 = create_linear_regression_model1()\n",
    "global_model1.set_weights(avg_weights1)\n",
    "\n",
    "global_model2 = create_linear_regression_model2()\n",
    "global_model2.set_weights(avg_weights2)"
   ]
  },
  {
   "cell_type": "code",
   "execution_count": 44,
   "metadata": {},
   "outputs": [
    {
     "name": "stdout",
     "output_type": "stream",
     "text": [
      "Test loss: 515.8008, Test accuracy: 22.4649\n",
      "Test loss: 2219873.0000, Test accuracy: 1484.6556\n"
     ]
    }
   ],
   "source": [
    "loss, accuracy = global_model1.evaluate(X_test1, y_test1, verbose=0)\n",
    "print(f'Test loss: {loss:.4f}, Test accuracy: {accuracy:.4f}')\n",
    "\n",
    "loss, accuracy = global_model2.evaluate(X_test2, y_test2, verbose=0)\n",
    "print(f'Test loss: {loss:.4f}, Test accuracy: {accuracy:.4f}')"
   ]
  },
  {
   "cell_type": "code",
   "execution_count": 45,
   "metadata": {},
   "outputs": [
    {
     "data": {
      "text/html": [
       "<pre style=\"white-space:pre;overflow-x:auto;line-height:normal;font-family:Menlo,'DejaVu Sans Mono',consolas,'Courier New',monospace\"><span style=\"font-weight: bold\">Model: \"sequential_27\"</span>\n",
       "</pre>\n"
      ],
      "text/plain": [
       "\u001b[1mModel: \"sequential_27\"\u001b[0m\n"
      ]
     },
     "metadata": {},
     "output_type": "display_data"
    },
    {
     "data": {
      "text/html": [
       "<pre style=\"white-space:pre;overflow-x:auto;line-height:normal;font-family:Menlo,'DejaVu Sans Mono',consolas,'Courier New',monospace\">┏━━━━━━━━━━━━━━━━━━━━━━━━━━━━━━━━━┳━━━━━━━━━━━━━━━━━━━━━━━━┳━━━━━━━━━━━━━━━┓\n",
       "┃<span style=\"font-weight: bold\"> Layer (type)                    </span>┃<span style=\"font-weight: bold\"> Output Shape           </span>┃<span style=\"font-weight: bold\">       Param # </span>┃\n",
       "┡━━━━━━━━━━━━━━━━━━━━━━━━━━━━━━━━━╇━━━━━━━━━━━━━━━━━━━━━━━━╇━━━━━━━━━━━━━━━┩\n",
       "│ dense_27 (<span style=\"color: #0087ff; text-decoration-color: #0087ff\">Dense</span>)                │ (<span style=\"color: #00d7ff; text-decoration-color: #00d7ff\">None</span>, <span style=\"color: #00af00; text-decoration-color: #00af00\">1</span>)              │             <span style=\"color: #00af00; text-decoration-color: #00af00\">3</span> │\n",
       "└─────────────────────────────────┴────────────────────────┴───────────────┘\n",
       "</pre>\n"
      ],
      "text/plain": [
       "┏━━━━━━━━━━━━━━━━━━━━━━━━━━━━━━━━━┳━━━━━━━━━━━━━━━━━━━━━━━━┳━━━━━━━━━━━━━━━┓\n",
       "┃\u001b[1m \u001b[0m\u001b[1mLayer (type)                   \u001b[0m\u001b[1m \u001b[0m┃\u001b[1m \u001b[0m\u001b[1mOutput Shape          \u001b[0m\u001b[1m \u001b[0m┃\u001b[1m \u001b[0m\u001b[1m      Param #\u001b[0m\u001b[1m \u001b[0m┃\n",
       "┡━━━━━━━━━━━━━━━━━━━━━━━━━━━━━━━━━╇━━━━━━━━━━━━━━━━━━━━━━━━╇━━━━━━━━━━━━━━━┩\n",
       "│ dense_27 (\u001b[38;5;33mDense\u001b[0m)                │ (\u001b[38;5;45mNone\u001b[0m, \u001b[38;5;34m1\u001b[0m)              │             \u001b[38;5;34m3\u001b[0m │\n",
       "└─────────────────────────────────┴────────────────────────┴───────────────┘\n"
      ]
     },
     "metadata": {},
     "output_type": "display_data"
    },
    {
     "data": {
      "text/html": [
       "<pre style=\"white-space:pre;overflow-x:auto;line-height:normal;font-family:Menlo,'DejaVu Sans Mono',consolas,'Courier New',monospace\"><span style=\"font-weight: bold\"> Total params: </span><span style=\"color: #00af00; text-decoration-color: #00af00\">3</span> (12.00 B)\n",
       "</pre>\n"
      ],
      "text/plain": [
       "\u001b[1m Total params: \u001b[0m\u001b[38;5;34m3\u001b[0m (12.00 B)\n"
      ]
     },
     "metadata": {},
     "output_type": "display_data"
    },
    {
     "data": {
      "text/html": [
       "<pre style=\"white-space:pre;overflow-x:auto;line-height:normal;font-family:Menlo,'DejaVu Sans Mono',consolas,'Courier New',monospace\"><span style=\"font-weight: bold\"> Trainable params: </span><span style=\"color: #00af00; text-decoration-color: #00af00\">3</span> (12.00 B)\n",
       "</pre>\n"
      ],
      "text/plain": [
       "\u001b[1m Trainable params: \u001b[0m\u001b[38;5;34m3\u001b[0m (12.00 B)\n"
      ]
     },
     "metadata": {},
     "output_type": "display_data"
    },
    {
     "data": {
      "text/html": [
       "<pre style=\"white-space:pre;overflow-x:auto;line-height:normal;font-family:Menlo,'DejaVu Sans Mono',consolas,'Courier New',monospace\"><span style=\"font-weight: bold\"> Non-trainable params: </span><span style=\"color: #00af00; text-decoration-color: #00af00\">0</span> (0.00 B)\n",
       "</pre>\n"
      ],
      "text/plain": [
       "\u001b[1m Non-trainable params: \u001b[0m\u001b[38;5;34m0\u001b[0m (0.00 B)\n"
      ]
     },
     "metadata": {},
     "output_type": "display_data"
    }
   ],
   "source": [
    "global_model1.summary()"
   ]
  },
  {
   "cell_type": "code",
   "execution_count": 46,
   "metadata": {},
   "outputs": [
    {
     "data": {
      "text/html": [
       "<pre style=\"white-space:pre;overflow-x:auto;line-height:normal;font-family:Menlo,'DejaVu Sans Mono',consolas,'Courier New',monospace\"><span style=\"font-weight: bold\">Model: \"sequential_28\"</span>\n",
       "</pre>\n"
      ],
      "text/plain": [
       "\u001b[1mModel: \"sequential_28\"\u001b[0m\n"
      ]
     },
     "metadata": {},
     "output_type": "display_data"
    },
    {
     "data": {
      "text/html": [
       "<pre style=\"white-space:pre;overflow-x:auto;line-height:normal;font-family:Menlo,'DejaVu Sans Mono',consolas,'Courier New',monospace\">┏━━━━━━━━━━━━━━━━━━━━━━━━━━━━━━━━━┳━━━━━━━━━━━━━━━━━━━━━━━━┳━━━━━━━━━━━━━━━┓\n",
       "┃<span style=\"font-weight: bold\"> Layer (type)                    </span>┃<span style=\"font-weight: bold\"> Output Shape           </span>┃<span style=\"font-weight: bold\">       Param # </span>┃\n",
       "┡━━━━━━━━━━━━━━━━━━━━━━━━━━━━━━━━━╇━━━━━━━━━━━━━━━━━━━━━━━━╇━━━━━━━━━━━━━━━┩\n",
       "│ dense_28 (<span style=\"color: #0087ff; text-decoration-color: #0087ff\">Dense</span>)                │ (<span style=\"color: #00d7ff; text-decoration-color: #00d7ff\">None</span>, <span style=\"color: #00af00; text-decoration-color: #00af00\">1</span>)              │             <span style=\"color: #00af00; text-decoration-color: #00af00\">6</span> │\n",
       "└─────────────────────────────────┴────────────────────────┴───────────────┘\n",
       "</pre>\n"
      ],
      "text/plain": [
       "┏━━━━━━━━━━━━━━━━━━━━━━━━━━━━━━━━━┳━━━━━━━━━━━━━━━━━━━━━━━━┳━━━━━━━━━━━━━━━┓\n",
       "┃\u001b[1m \u001b[0m\u001b[1mLayer (type)                   \u001b[0m\u001b[1m \u001b[0m┃\u001b[1m \u001b[0m\u001b[1mOutput Shape          \u001b[0m\u001b[1m \u001b[0m┃\u001b[1m \u001b[0m\u001b[1m      Param #\u001b[0m\u001b[1m \u001b[0m┃\n",
       "┡━━━━━━━━━━━━━━━━━━━━━━━━━━━━━━━━━╇━━━━━━━━━━━━━━━━━━━━━━━━╇━━━━━━━━━━━━━━━┩\n",
       "│ dense_28 (\u001b[38;5;33mDense\u001b[0m)                │ (\u001b[38;5;45mNone\u001b[0m, \u001b[38;5;34m1\u001b[0m)              │             \u001b[38;5;34m6\u001b[0m │\n",
       "└─────────────────────────────────┴────────────────────────┴───────────────┘\n"
      ]
     },
     "metadata": {},
     "output_type": "display_data"
    },
    {
     "data": {
      "text/html": [
       "<pre style=\"white-space:pre;overflow-x:auto;line-height:normal;font-family:Menlo,'DejaVu Sans Mono',consolas,'Courier New',monospace\"><span style=\"font-weight: bold\"> Total params: </span><span style=\"color: #00af00; text-decoration-color: #00af00\">6</span> (24.00 B)\n",
       "</pre>\n"
      ],
      "text/plain": [
       "\u001b[1m Total params: \u001b[0m\u001b[38;5;34m6\u001b[0m (24.00 B)\n"
      ]
     },
     "metadata": {},
     "output_type": "display_data"
    },
    {
     "data": {
      "text/html": [
       "<pre style=\"white-space:pre;overflow-x:auto;line-height:normal;font-family:Menlo,'DejaVu Sans Mono',consolas,'Courier New',monospace\"><span style=\"font-weight: bold\"> Trainable params: </span><span style=\"color: #00af00; text-decoration-color: #00af00\">6</span> (24.00 B)\n",
       "</pre>\n"
      ],
      "text/plain": [
       "\u001b[1m Trainable params: \u001b[0m\u001b[38;5;34m6\u001b[0m (24.00 B)\n"
      ]
     },
     "metadata": {},
     "output_type": "display_data"
    },
    {
     "data": {
      "text/html": [
       "<pre style=\"white-space:pre;overflow-x:auto;line-height:normal;font-family:Menlo,'DejaVu Sans Mono',consolas,'Courier New',monospace\"><span style=\"font-weight: bold\"> Non-trainable params: </span><span style=\"color: #00af00; text-decoration-color: #00af00\">0</span> (0.00 B)\n",
       "</pre>\n"
      ],
      "text/plain": [
       "\u001b[1m Non-trainable params: \u001b[0m\u001b[38;5;34m0\u001b[0m (0.00 B)\n"
      ]
     },
     "metadata": {},
     "output_type": "display_data"
    }
   ],
   "source": [
    "global_model2.summary()"
   ]
  }
 ],
 "metadata": {
  "kernelspec": {
   "display_name": "FL",
   "language": "python",
   "name": "python3"
  },
  "language_info": {
   "codemirror_mode": {
    "name": "ipython",
    "version": 3
   },
   "file_extension": ".py",
   "mimetype": "text/x-python",
   "name": "python",
   "nbconvert_exporter": "python",
   "pygments_lexer": "ipython3",
   "version": "3.12.5"
  }
 },
 "nbformat": 4,
 "nbformat_minor": 2
}
